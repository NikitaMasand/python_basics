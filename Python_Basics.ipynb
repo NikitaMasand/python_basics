{
 "cells": [
  {
   "cell_type": "code",
   "execution_count": 6,
   "metadata": {},
   "outputs": [
    {
     "name": "stdout",
     "output_type": "stream",
     "text": [
      "Hello world\n",
      "**********\n"
     ]
    }
   ],
   "source": [
    "print(\"Hello world\")\n",
    "print(\"*\" * 10) \n",
    "# * concatenates the string that many number of times\n",
    "#Linting: Analyzing our code for potential errors\n",
    "# print \"hi\" this works in python 2 not python 3"
   ]
  },
  {
   "cell_type": "raw",
   "metadata": {},
   "source": [
    "formatting code\n",
    "Python Enhancement Proposals..style guide for python code pep8\n",
    "x=5 ugly acc to pep 8\n",
    "x = 5\n",
    "Machine code(1s and 0s) is specific to the type of the processor and machine\n",
    "Java compiles it to java byte code which is not specific to the hardware platform\n",
    "JVM loads java byte code and converts each instruction to machine code during runtime\n"
   ]
  },
  {
   "cell_type": "raw",
   "metadata": {},
   "source": [
    "How python code is executed?\n",
    "Python implementation is the program that understands the program rules and executes the python code\n",
    "cpython is default implementation of python\n",
    "In terminal when we run python we get the cpython\n",
    "There are several implementations of python\n",
    "jython\n",
    "ironpython\n",
    "Computers only understand machine code\n",
    "python => python bytecode => machine code\n",
    "      cpython            python virtual machine\n",
    "      "
   ]
  },
  {
   "cell_type": "code",
   "execution_count": 16,
   "metadata": {},
   "outputs": [
    {
     "name": "stdout",
     "output_type": "stream",
     "text": [
      "Welcome\n",
      "To the COC python workshop\n",
      "Hope you all learnt something new\n",
      "<class 'str'>\n"
     ]
    }
   ],
   "source": [
    "#Variables\n",
    "#if a string is multiple lines we use \"\"\"\" triple quotes\n",
    "message = \"\"\"Welcome\n",
    "To the COC python workshop\n",
    "Hope you all learnt something new\"\"\"\n",
    "print(message)\n",
    "#can initialize multiple variables on the same line\n",
    "x, y = 1, 2\n",
    "a = b = 1\n",
    "#Dynamic nature of python: don't have to specify type of variable in code\n",
    "#it is determined during run time\n",
    "#type specifies the class to which the data belongs\n",
    "print(type(message))"
   ]
  },
  {
   "cell_type": "code",
   "execution_count": 25,
   "metadata": {},
   "outputs": [
    {
     "name": "stdout",
     "output_type": "stream",
     "text": [
      "int_id1 1910603856\n",
      "int_id2 1910603888\n",
      "list_id:  2808371046920\n",
      "list_id:  2808371046920\n"
     ]
    }
   ],
   "source": [
    "#mutable and immutable types\n",
    "variable = 1\n",
    "#python interpreter gives some address in the memory location to store the number 1\n",
    "#and variable is the label for that location\n",
    "#id is used to get the address of the memory location that variable references to\n",
    "print(\"int_id1\" , id(variable))\n",
    "variable = variable + 1\n",
    "#however after the value is changed the variable is no more pointing to that memory location,\n",
    "#it points to a new one after changing. This is because of immutability\n",
    "print(\"int_id2\" , id(variable))\n",
    "#After some time the garbage collector will release the memory for the first location as\n",
    "#there is not reference there\n",
    "#built in primitive types like number, lists are mutable\n",
    "#list's value can be changed at the same memory location\n",
    "listt = [1, 2, 3] #square brackets to indicate list\n",
    "print(\"list_id: \" , id(listt))\n",
    "listt.append(4)\n",
    "print(\"list_id: \" , id(listt))"
   ]
  },
  {
   "cell_type": "code",
   "execution_count": 34,
   "metadata": {},
   "outputs": [
    {
     "name": "stdout",
     "output_type": "stream",
     "text": [
      "19\n",
      "C\n",
      "C\n",
      "Communit\n",
      "Communit\n",
      "Community Of Coders\n",
      "Community Of Coders\n",
      "2808372044400\n",
      "2808330644928\n",
      "2808300484680\n"
     ]
    }
   ],
   "source": [
    "#Strings\n",
    "name = \"Community Of Coders\"\n",
    "#len returns number of items\n",
    "print(len(name))\n",
    "print(name[0]) \n",
    "#negative indexing\n",
    "#-1 returns the first character from the end of string\n",
    "print(name[-19])\n",
    "#slicing strings\n",
    "#print(string[a:b]) includes index a and excludes b\n",
    "#if a is not written it assumes 0 index as start and if b is not written it assumes last index\n",
    "print(name[0:8])\n",
    "print(name[:8]) \n",
    "print(name[0:])\n",
    "print(name[:])\n",
    "#since strings are immutable the python interpreter allocates different memory \n",
    "#for name and name[0] when you access them\n",
    "print(id(name))\n",
    "print(id(name[0]))\n",
    "print(id(name[1]))"
   ]
  },
  {
   "cell_type": "code",
   "execution_count": 49,
   "metadata": {},
   "outputs": [
    {
     "name": "stdout",
     "output_type": "stream",
     "text": [
      "hello y'all\n",
      "hello \u0007ll\n",
      "hello \\all\n"
     ]
    }
   ],
   "source": [
    "#Escape sequences\n",
    "#message = 'hello y'all' this won't work as it will take it as if the string is ended after y\n",
    "message = \"hello y'all\" #one way is writing \"\" or '' whenever other needs to be written inside\n",
    "#But if we want only \"\" in the whole string\n",
    "# \\ is the escape character in python and has a special meaning\n",
    "#depending on the character that comes after \\ python interpretes it differently\n",
    "print('hello y\\'all')\n",
    "# \\' is the escape sequence\n",
    "print(\"hello \\all\")\n",
    "print(\"hello \\\\all\")\n",
    "# \\n is used for a new line"
   ]
  },
  {
   "cell_type": "code",
   "execution_count": 42,
   "metadata": {},
   "outputs": [
    {
     "name": "stdout",
     "output_type": "stream",
     "text": [
      "hello\\\n",
      "y'all\n"
     ]
    }
   ],
   "source": [
    "#Guess the output of the following code\n",
    "print('hello\\\\\\ny\\'all')\n",
    "#Quick question: What will be the other way to write the above string if I don't want \\n??"
   ]
  },
  {
   "cell_type": "code",
   "execution_count": 54,
   "metadata": {},
   "outputs": [
    {
     "name": "stdout",
     "output_type": "stream",
     "text": [
      "hello FYs\n",
      "hello FYs\n",
      "5 3 9\n"
     ]
    }
   ],
   "source": [
    "#formatted strings\n",
    "txt1 = \"hello\"\n",
    "txt2 = \"FYs\"\n",
    "txt = txt1 + \" \" + txt2\n",
    "print(txt)\n",
    "#formatted string does not have a constant value, it's an expression which is evaluated at runtime\n",
    "txt = f\"{txt1} {txt2}\" \n",
    "length = F\"{len(txt1)} {len(txt2)} {len(txt)}\"\n",
    "print(txt)\n",
    "print(length)"
   ]
  },
  {
   "cell_type": "code",
   "execution_count": 62,
   "metadata": {},
   "outputs": [
    {
     "name": "stdout",
     "output_type": "stream",
     "text": [
      "   COC PYTHON WS\n",
      "   coc python ws\n",
      "   Coc Python Ws\n",
      "coc python ws\n",
      "3\n",
      "cocpythonws\n",
      "True\n",
      "False\n"
     ]
    }
   ],
   "source": [
    "#useful string methods\n",
    "strr = \"   coc python ws\"\n",
    "print(strr.upper())\n",
    "print(strr.lower())\n",
    "print(strr.title())\n",
    "#strip method removes extra white spaces at the beginning and end of string\n",
    "print(strr.strip())\n",
    "#lstrip and rstrip for removing the spaces at the beginning and end of string\n",
    "#String comparisons are case sensitive\n",
    "print(strr.find(\"coc\"))\n",
    "print(strr.replace(\" \",\"\"))\n",
    "print(\"python\" in strr)\n",
    "print(\"python\" not in strr)"
   ]
  },
  {
   "cell_type": "code",
   "execution_count": 70,
   "metadata": {},
   "outputs": [
    {
     "name": "stdout",
     "output_type": "stream",
     "text": [
      "2\n",
      "0b101\n",
      "10\n",
      "0xa\n",
      "(1+2j)\n"
     ]
    }
   ],
   "source": [
    "#Numbers\n",
    "num = 0b10\n",
    "print(num)\n",
    "print(bin(5))\n",
    "x = 0xa\n",
    "print(x)\n",
    "print(hex(x))\n",
    "x = 1 + 2j\n",
    "print(x)"
   ]
  },
  {
   "cell_type": "code",
   "execution_count": 1,
   "metadata": {},
   "outputs": [
    {
     "name": "stdout",
     "output_type": "stream",
     "text": [
      "3\n",
      "1000\n",
      "age: 4\n",
      "age: 4\n",
      "age: 4\n",
      "4\n",
      "True\n"
     ]
    }
   ],
   "source": [
    "print(10//3) #integer division\n",
    "print(10**3) #10 raised to 3\n",
    "# x++ or x-- does not work in python\n",
    "#in python there are no constants const \n",
    "# to take a numerical input from user\n",
    "x = input(\"age: \")\n",
    "# age += 4 error because age is in string format\n",
    "#type conversions\n",
    "age = input(\"age: \")\n",
    "print(int(age))\n",
    "print(bool(age))"
   ]
  },
  {
   "cell_type": "code",
   "execution_count": 6,
   "metadata": {},
   "outputs": [
    {
     "name": "stdout",
     "output_type": "stream",
     "text": [
      "0\n",
      "1\n",
      "2\n",
      "3\n",
      "4\n",
      "0\n",
      "1\n",
      "2\n",
      "3\n",
      "4\n"
     ]
    }
   ],
   "source": [
    "# for x in range(0, 10, 2): #here the third arg is step\n",
    "#     print(x)\n",
    "    \n",
    "for x in range(0,5):\n",
    "    print(x)\n",
    "for x in [0,1,2,3,4]:\n",
    "    print(x)\n",
    "# The diff between using list and range above is that range objects take a very small amount of memory\n",
    "# If we have many elements range will produce a new number in each iteration\n",
    "#While list will take that much amount of memory\n",
    "#if loop completes successfully without using a break statement else block in while else or for else is executed"
   ]
  },
  {
   "cell_type": "code",
   "execution_count": 15,
   "metadata": {},
   "outputs": [
    {
     "name": "stdout",
     "output_type": "stream",
     "text": [
      "(2, 5)\n"
     ]
    }
   ],
   "source": [
    "#functions\n",
    "# def funcname(parameters):\n",
    "#     code\n",
    "\n",
    "\n",
    "# we should always give two line breaks after function ends\n",
    "#functions always return null/none values\n",
    "#in python we can also return multiple values\n",
    "#we cannot modify tuple\n",
    "#keyword arguements\n",
    "#to make our code more readable\n",
    "def increment(number: int, by: int = 1) -> tuple: # -> this restricts the return type of function\n",
    "    return(number, number+by)\n",
    "print(increment(2 ,by = 3)) #these are keyword arguements to make the code more readable"
   ]
  },
  {
   "cell_type": "code",
   "execution_count": 11,
   "metadata": {},
   "outputs": [
    {
     "name": "stdout",
     "output_type": "stream",
     "text": [
      "(2, 3, 4, 5)\n",
      "{'id': 6, 'name': 'nik'}\n",
      "6\n"
     ]
    }
   ],
   "source": [
    "# *args\n",
    "#To pass a variable number of arguements in the function\n",
    "#Python will pass all those parameters as a tuple \n",
    "def function(*args):\n",
    "    print(args)\n",
    "    \n",
    "    \n",
    "function(2,3,4,5)\n",
    "# **args\n",
    "#with this we can pass arbitrary number of keyword arguements\n",
    "#multiple key value pairs..dictionary\n",
    "def function(**args):\n",
    "    print(args)\n",
    "    print(args[\"id\"])\n",
    "    \n",
    "    \n",
    "function(id = 6, name = \"nik\")"
   ]
  },
  {
   "cell_type": "code",
   "execution_count": 17,
   "metadata": {},
   "outputs": [
    {
     "name": "stdout",
     "output_type": "stream",
     "text": [
      "local  b\n",
      "global b\n"
     ]
    }
   ],
   "source": [
    "#local variables with the function scope\n",
    "#global variables with the file scope\n",
    "#however if we define a variable inside of a block it is still accessible outside the block in function\n",
    "# def greeting():\n",
    "#     if True:\n",
    "#         msg = \"a\"\n",
    "#     print(msg)\n",
    "# greeting()\n",
    "#we don't have block level scope thus msg is seen by function too\n",
    "\n",
    "#bad practice of modifying the global variable\n",
    "msg = \"a\"\n",
    "def greeting():\n",
    "    global msg\n",
    "    msg = \"b\"\n",
    "    print(\"local \",msg)\n",
    "    \n",
    "#two variables are created..one local and one global for msg but when global is used..\n",
    "#we say that we are using global variable only\n",
    "greeting()\n",
    "print(\"global\", msg)"
   ]
  },
  {
   "cell_type": "code",
   "execution_count": 30,
   "metadata": {},
   "outputs": [
    {
     "name": "stdout",
     "output_type": "stream",
     "text": [
      "Fizz\n"
     ]
    }
   ],
   "source": [
    "def fizz_buzz(input):\n",
    "    if(input%3==0 and input%5==0 ):\n",
    "        print(\"FizzBuzz\")\n",
    "    elif(input%3==0):\n",
    "        print(\"Fizz\")\n",
    "    elif(input%5==0):\n",
    "        print(\"Buzz\")\n",
    "    else:\n",
    "        print(input)\n",
    "    \n",
    "    \n",
    "fizz_buzz(3)"
   ]
  },
  {
   "cell_type": "code",
   "execution_count": 32,
   "metadata": {},
   "outputs": [
    {
     "name": "stdout",
     "output_type": "stream",
     "text": [
      "0b100000000000000000000000000000000000000\n"
     ]
    }
   ],
   "source": [
    "print(bin(2**38))"
   ]
  },
  {
   "cell_type": "code",
   "execution_count": null,
   "metadata": {},
   "outputs": [],
   "source": []
  }
 ],
 "metadata": {
  "kernelspec": {
   "display_name": "Python 3",
   "language": "python",
   "name": "python3"
  },
  "language_info": {
   "codemirror_mode": {
    "name": "ipython",
    "version": 3
   },
   "file_extension": ".py",
   "mimetype": "text/x-python",
   "name": "python",
   "nbconvert_exporter": "python",
   "pygments_lexer": "ipython3",
   "version": "3.6.7"
  }
 },
 "nbformat": 4,
 "nbformat_minor": 2
}
